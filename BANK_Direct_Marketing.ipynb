{
  "nbformat": 4,
  "nbformat_minor": 0,
  "metadata": {
    "colab": {
      "name": "Assignment 2 - MARKETING",
      "provenance": [],
      "collapsed_sections": []
    },
    "kernelspec": {
      "name": "python3",
      "display_name": "Python 3"
    },
    "accelerator": "GPU"
  },
  "cells": [
    {
      "cell_type": "code",
      "metadata": {
        "id": "w1hDk9hDvOH7",
        "colab_type": "code",
        "outputId": "a071a706-8fde-4830-d542-74d60f008db0",
        "colab": {
          "base_uri": "https://localhost:8080/",
          "height": 51
        }
      },
      "source": [
        "import pandas as pd\n",
        "from sklearn.preprocessing import label_binarize\n",
        "import numpy as np\n",
        "from sklearn.model_selection import train_test_split\n",
        "from sklearn.ensemble import RandomForestClassifier\n",
        "from sklearn.tree import DecisionTreeClassifier\n",
        "from sklearn.model_selection import GridSearchCV\n",
        "from sklearn.model_selection import RandomizedSearchCV\n",
        "from sklearn.model_selection import cross_val_score\n",
        "from sklearn.metrics import classification_report, confusion_matrix\n",
        "from sklearn.ensemble import GradientBoostingClassifier\n",
        "\n",
        "import warnings\n",
        "warnings.filterwarnings(\"ignore\")\n",
        "#Please ignore the warnings with version change\n",
        "\n",
        "from google.colab import drive\n",
        "drive.mount('/gdrive')\n",
        "#Change current working directory to gdrive\n",
        "%cd /gdrive\n",
        "\n"
      ],
      "execution_count": 0,
      "outputs": [
        {
          "output_type": "stream",
          "text": [
            "Drive already mounted at /gdrive; to attempt to forcibly remount, call drive.mount(\"/gdrive\", force_remount=True).\n",
            "/gdrive\n"
          ],
          "name": "stdout"
        }
      ]
    },
    {
      "cell_type": "code",
      "metadata": {
        "id": "BMwGQK7KAd7T",
        "colab_type": "code",
        "outputId": "29d89dff-1e4e-4f65-cf48-98d70ffdf8a7",
        "colab": {
          "base_uri": "https://localhost:8080/",
          "height": 51
        }
      },
      "source": [
        "trainfile = r'/gdrive/My Drive/CIS508/ASN 2/Bank Data - TRAIN.csv'\n",
        "trainData = pd.read_csv(trainfile) #creates a dataframe\n",
        "testfile = r'/gdrive/My Drive/CIS508/ASN 2/Bank Data - TEST.csv'\n",
        "testData = pd.read_csv(testfile)  #creates a dataframe\n",
        "\n",
        "\n",
        "print(trainData.shape)\n",
        "print(testData.shape)\n",
        "\n"
      ],
      "execution_count": 0,
      "outputs": [
        {
          "output_type": "stream",
          "text": [
            "(4521, 17)\n",
            "(45211, 17)\n"
          ],
          "name": "stdout"
        }
      ]
    },
    {
      "cell_type": "code",
      "metadata": {
        "id": "mU8GshIDExtS",
        "colab_type": "code",
        "colab": {}
      },
      "source": [
        "trainData.head()"
      ],
      "execution_count": 0,
      "outputs": []
    },
    {
      "cell_type": "code",
      "metadata": {
        "id": "gw-IWHUuF-n5",
        "colab_type": "code",
        "colab": {}
      },
      "source": [
        "testData.head()"
      ],
      "execution_count": 0,
      "outputs": []
    },
    {
      "cell_type": "code",
      "metadata": {
        "colab_type": "code",
        "id": "NqHLoTCVEnux",
        "colab": {}
      },
      "source": [
        "#List of Categorical Features\n",
        "categoricalFeatures = [\"job\", \"marital\", 'education', \"default\", \"housing\", \"loan\", 'contact', 'month', \"poutcome\"]\n",
        "\n",
        "#Combine Train and test for one Hot Encoding\n",
        "combined_Data = pd.concat([trainData,testData], keys=[0,1])\n",
        "\n",
        "#Do one Hot encoding for categorical features\n",
        "combined_Data = pd.get_dummies(combined_Data,columns=categoricalFeatures)\n",
        "\n",
        "#Separate Train data and test data\n",
        "trainData = combined_Data.xs(0)\n",
        "testData = combined_Data.xs(1)\n",
        "\n",
        "y_train = trainData[\"y\"]\n",
        "X_train = trainData.drop([\"y\"], axis=1) #extracting training data without the target column\n",
        "y_test = testData[\"y\"]\n",
        "X_test = testData.drop([\"y\"], axis=1) #extracting training data without the target column\n",
        "\n"
      ],
      "execution_count": 0,
      "outputs": []
    },
    {
      "cell_type": "code",
      "metadata": {
        "id": "-Yd724taAv3o",
        "colab_type": "code",
        "outputId": "c1afca10-fa32-48f3-c82f-b4f702301800",
        "colab": {
          "base_uri": "https://localhost:8080/",
          "height": 85
        }
      },
      "source": [
        "#Decision Tree Classifier ========================================================================\n",
        "#CONSTRUCT DEFAULT DECISION TREE AND OBTAIN RESPECTIVE ACCURACY \n",
        "clf = DecisionTreeClassifier()\n",
        "clf.fit(X_train, y_train)\n",
        "clf_predict=clf.predict(X_test)\n",
        "print(\"accuracy Score (training) for Decision TreE:{0:6f}\".format(clf.score(X_test,y_test)))\n",
        "print(\"Confusion Matrix for Decision Tree\")\n",
        "print(confusion_matrix(y_test,clf_predict))\n",
        "\n"
      ],
      "execution_count": 0,
      "outputs": [
        {
          "output_type": "stream",
          "text": [
            "accuracy Score (training) for Decision TreE:0.884497\n",
            "Confusion Matrix for Decision Tree\n",
            "[[37307  2615]\n",
            " [ 2607  2682]]\n"
          ],
          "name": "stdout"
        }
      ]
    },
    {
      "cell_type": "code",
      "metadata": {
        "id": "acymCZogA1B1",
        "colab_type": "code",
        "outputId": "23392875-b7c3-499d-9b4d-c350b682bf88",
        "colab": {
          "base_uri": "https://localhost:8080/",
          "height": 85
        }
      },
      "source": [
        "#Hyperparameter tuning done for decision tree classifier\n",
        "#do random search\n",
        "print(\"RandomizedSearchCV-Decision tree\")\n",
        "parameters={'min_samples_leaf' : range(2,200,5),'max_depth': range(10,250,10),'criterion':['gini','entropy']}\n",
        "clf_random = RandomizedSearchCV(clf,parameters,n_iter=15,cv=5)\n",
        "clf_random.fit(X_train, y_train)\n",
        "grid_parm=clf_random.best_params_\n",
        "print(grid_parm)\n",
        "#Now do grid search\n",
        "print(\"GridSearchCV-Decision tree\")\n",
        "clf_grid = GridSearchCV(clf,parameters)\n",
        "clf_grid.fit(X_train, y_train)\n",
        "grid_parm1=clf_grid.best_params_\n",
        "print(grid_parm1)\n",
        "\n"
      ],
      "execution_count": 0,
      "outputs": [
        {
          "output_type": "stream",
          "text": [
            "RandomizedSearchCV-Decision tree\n",
            "{'min_samples_leaf': 32, 'max_depth': 80, 'criterion': 'entropy'}\n",
            "GridSearchCV-Decision tree\n",
            "{'criterion': 'gini', 'max_depth': 10, 'min_samples_leaf': 72}\n"
          ],
          "name": "stdout"
        }
      ]
    },
    {
      "cell_type": "code",
      "metadata": {
        "id": "EesI2Lc7A587",
        "colab_type": "code",
        "colab": {}
      },
      "source": [
        "#Using the parameters obtained from HyperParameterTuning in the DecisionTreeClassifier\n",
        "#Construct Decision Trees using the best parameters\n",
        "clf = DecisionTreeClassifier(**grid_parm)\n",
        "clfr = DecisionTreeClassifier(**grid_parm1)\n",
        "\n",
        "clf.fit(X_train,y_train)\n",
        "clf_predict = clf.predict(X_test)\n",
        "clfr.fit(X_train,y_train)\n",
        "clfr_predict = clfr.predict(X_test)\n",
        "\n",
        "\n"
      ],
      "execution_count": 0,
      "outputs": []
    },
    {
      "cell_type": "code",
      "metadata": {
        "id": "UW1oB-MjBAjK",
        "colab_type": "code",
        "outputId": "8b378396-5a9d-4100-a095-1ca9a6dfff1a",
        "colab": {
          "base_uri": "https://localhost:8080/",
          "height": 340
        }
      },
      "source": [
        "#Obtain accuracy ,confusion matrix,classification report and AUC values for the result above.\n",
        "print(\"accuracy Score (training) after hypertuning randomized search for Decision Tree:{0:6f}\".format(clf.score(X_test,y_test)))\n",
        "\n",
        "print(\"accuracy Score (training) after hypertuning grid search for Decision Tree:{0:6f}\".format(clfr.score(X_test,y_test)))\n",
        "print(\"Confusion Matrix after hypertuning for Decision Tree\")\n",
        "print(confusion_matrix(y_test,clf_predict))\n",
        "print(\"=== Classification Report ===\")\n",
        "print(classification_report(y_test,clfr_predict))\n",
        "\n",
        "clf_cv_score = cross_val_score(clfr, X_train, y_train, cv=10, scoring=\"balanced_accuracy\")\n",
        "print(clf_cv_score)\n",
        "print('\\n')\n",
        "\n",
        "\n"
      ],
      "execution_count": 0,
      "outputs": [
        {
          "output_type": "stream",
          "text": [
            "accuracy Score (training) after hypertuning randomized search for Decision Tree:0.893765\n",
            "accuracy Score (training) after hypertuning grid search for Decision Tree:0.896596\n",
            "Confusion Matrix after hypertuning for Decision Tree\n",
            "[[38694  1228]\n",
            " [ 3575  1714]]\n",
            "=== Classification Report ===\n",
            "              precision    recall  f1-score   support\n",
            "\n",
            "          no       0.93      0.96      0.94     39922\n",
            "         yes       0.58      0.43      0.49      5289\n",
            "\n",
            "    accuracy                           0.90     45211\n",
            "   macro avg       0.75      0.69      0.72     45211\n",
            "weighted avg       0.89      0.90      0.89     45211\n",
            "\n",
            "[0.6371934  0.65346154 0.66269231 0.65096154 0.67567308 0.62336538\n",
            " 0.66980769 0.64009615 0.65346154 0.63048077]\n",
            "\n",
            "\n"
          ],
          "name": "stdout"
        }
      ]
    },
    {
      "cell_type": "code",
      "metadata": {
        "id": "M9KXPcUtBE_E",
        "colab_type": "code",
        "outputId": "3ad47f09-fa0b-4252-aef9-e65089ab98c2",
        "colab": {
          "base_uri": "https://localhost:8080/",
          "height": 391
        }
      },
      "source": [
        "#Normal randomforest==============================================================================\n",
        "#=================================================================================================\n",
        "rand_parameters={'min_samples_leaf' : range(1,50,1),'max_depth': range(10,200,10),'max_features':[7,8,9],'n_estimators':[50,500,20]}\n",
        "rfc = RandomForestClassifier()\n",
        "rfc.fit(X_train, y_train)\n",
        "rfc_predict=rfc.predict(X_test)\n",
        "print(\"accuracy Score (training) for RandomForest:{0:6f}\".format(rfc.score(X_test,y_test)))\n",
        "print(\"Confusion Matrix for Random Forest:\")\n",
        "print(confusion_matrix(y_test,rfc_predict))\n",
        "#do random search with cross-validation\n",
        "rfc_random = RandomizedSearchCV(rfc,rand_parameters,n_iter=15,cv=5)\n",
        "rfc_random.fit(X_train, y_train)\n",
        "grid_parm_rfc=rfc_random.best_params_\n",
        "print(grid_parm_rfc)\n",
        "#create new classifier using the best parameters\n",
        "rfc= RandomForestClassifier(**grid_parm_rfc)\n",
        "rfc.fit(X_train,y_train)\n",
        "rfc_predict = rfc.predict(X_test)\n",
        "print(\"accuracy Score (training) after hypertuning for Random Forest:{0:6f}\".format(rfc.score(X_test,y_test)))\n",
        "print(\"Confusion Matrix after hypertuning for Random Forest:\")\n",
        "print(confusion_matrix(y_test,rfc_predict))\n",
        "print(\"=== Classification Report ===\")\n",
        "print(classification_report(y_test,rfc_predict))\n",
        "rfc_cv_score = cross_val_score(rfc, X_train, y_train, cv=5)\n",
        "print(rfc_cv_score)\n",
        "print('\\n')\n",
        "\n"
      ],
      "execution_count": 0,
      "outputs": [
        {
          "output_type": "stream",
          "text": [
            "accuracy Score (training) for RandomForest:0.907500\n",
            "Confusion Matrix for Random Forest:\n",
            "[[39105   817]\n",
            " [ 3365  1924]]\n",
            "{'n_estimators': 500, 'min_samples_leaf': 1, 'max_features': 9, 'max_depth': 150}\n",
            "accuracy Score (training) after hypertuning for Random Forest:0.913074\n",
            "Confusion Matrix after hypertuning for Random Forest:\n",
            "[[39086   836]\n",
            " [ 3094  2195]]\n",
            "=== Classification Report ===\n",
            "              precision    recall  f1-score   support\n",
            "\n",
            "          no       0.93      0.98      0.95     39922\n",
            "         yes       0.72      0.42      0.53      5289\n",
            "\n",
            "    accuracy                           0.91     45211\n",
            "   macro avg       0.83      0.70      0.74     45211\n",
            "weighted avg       0.90      0.91      0.90     45211\n",
            "\n",
            "[0.9038674  0.8960177  0.8960177  0.89712389 0.89933628]\n",
            "\n",
            "\n"
          ],
          "name": "stdout"
        }
      ]
    },
    {
      "cell_type": "code",
      "metadata": {
        "id": "557AiWo7YVJ0",
        "colab_type": "code",
        "colab": {}
      },
      "source": [
        "#GRID SEARCH----------------------------------------\n",
        "print(\"GridSearchCV-Random Forest\")\n",
        "rfc_grid = GridSearchCV(rfc,rand_parameters)\n",
        "rfc_grid.fit(X_train, y_train)\n",
        "grid_parm_rfc1=rfc_grid.best_params_\n",
        "print(grid_parm_rfc1)\n",
        "\n",
        "#Using the parameters obtained from HyperParameterTuning in the DecisionTreeClassifier \n",
        "rfcg= RandomForestClassifier(**grid_parm_rfc1)\n",
        "\n",
        "rfcg.fit(X_train,y_train)\n",
        "rfcg_predict = rfcg.predict(X_test)\n",
        "\n",
        "#Obtain accuracy ,confusion matrix,classification report and AUC values for the result above.\n",
        "print(\"accuracy Score (testing) after hypertuning grid search for Random Forest:{0:6f}\".format(rfcg.score(X_test,y_test)))\n",
        "print(\"Confusion Matrix after hypertuning for Random Forest\")\n",
        "print(confusion_matrix(y_test,rfcg_predict))\n",
        "print(\"=== Classification Report ===\")\n",
        "print(classification_report(y_test,rfcg_predict))\n",
        "\n",
        "#clf_cv_score = cross_val_score(clf, X_train, y_train, cv=10, scoring=\"balanced_accuracy\")\n",
        "#print(clf_cv_score)\n",
        "print('\\n')"
      ],
      "execution_count": 0,
      "outputs": []
    },
    {
      "cell_type": "code",
      "metadata": {
        "id": "r3D-s71uBJJJ",
        "colab_type": "code",
        "outputId": "e812d37c-2a27-4787-9b76-6e2dab2c7f6d",
        "colab": {
          "base_uri": "https://localhost:8080/",
          "height": 391
        }
      },
      "source": [
        "#Gradient Boosting================================================================================\n",
        "search_grid={'n_estimators':[1,400,25],'learning_rate':[0.05,.5,.5],'min_samples_leaf' : range(1,200,10),'max_depth': range(20,350,15)}\n",
        "abc =GradientBoostingClassifier()\n",
        "abc.fit(X_train, y_train)\n",
        "abc_predict=abc.predict(X_test)\n",
        "print(\"accuracy Score (training) for Boosting:{0:6f}\".format(abc.score(X_test,y_test)))\n",
        "print(\"Confusion Matrix for boosting:\")\n",
        "print(confusion_matrix(y_test,abc_predict))\n",
        "abc_random = RandomizedSearchCV(abc,search_grid,n_iter=15)\n",
        "abc_random.fit(X_train, y_train)\n",
        "grid_parm_abc=abc_random.best_params_\n",
        "print(grid_parm_abc)\n",
        "abc= GradientBoostingClassifier(**grid_parm_abc)\n",
        "abc.fit(X_train,y_train)\n",
        "abc_predict = abc.predict(X_test)\n",
        "print(\"accuracy Score (training) after hypertuning for Boosting:{0:6f}\".format(abc.score(X_test,y_test)))\n",
        "print(\"Confusion Matrix after hypertuning for Boosting:\")\n",
        "print(confusion_matrix(y_test,abc_predict))\n",
        "print(\"=== Classification Report ===\")\n",
        "print(classification_report(y_test,abc_predict))\n",
        "abc_cv_score = cross_val_score(abc, X_train, y_train, cv=5)\n",
        "print(abc_cv_score)\n",
        "print('\\n')\n"
      ],
      "execution_count": 0,
      "outputs": [
        {
          "output_type": "stream",
          "text": [
            "accuracy Score (training) for Boosting:0.906350\n",
            "Confusion Matrix for boosting:\n",
            "[[38788  1134]\n",
            " [ 3100  2189]]\n",
            "{'n_estimators': 1, 'min_samples_leaf': 61, 'max_depth': 275, 'learning_rate': 0.5}\n",
            "accuracy Score (training) after hypertuning for Boosting:0.895269\n",
            "Confusion Matrix after hypertuning for Boosting:\n",
            "[[38829  1093]\n",
            " [ 3642  1647]]\n",
            "=== Classification Report ===\n",
            "              precision    recall  f1-score   support\n",
            "\n",
            "          no       0.91      0.97      0.94     39922\n",
            "         yes       0.60      0.31      0.41      5289\n",
            "\n",
            "    accuracy                           0.90     45211\n",
            "   macro avg       0.76      0.64      0.68     45211\n",
            "weighted avg       0.88      0.90      0.88     45211\n",
            "\n",
            "[0.89834254 0.89269912 0.89712389 0.8960177  0.89933628]\n",
            "\n",
            "\n"
          ],
          "name": "stdout"
        }
      ]
    }
  ]
}